{
 "cells": [
  {
   "cell_type": "code",
   "execution_count": null,
   "metadata": {},
   "outputs": [],
   "source": [
    "'''\n",
    "2018년 만\n",
    "key : station_nm\n",
    " lng: 경도\n",
    " lat: 위도\n",
    " line_num: 노선이름\n",
    " data:\n",
    "   - list of (월별)\n",
    "      - month\n",
    "      - nums (시간별)\n",
    "         - time \n",
    "         - ride 승차\n",
    "         - alight 하차\n",
    "'''"
   ]
  },
  {
   "cell_type": "code",
   "execution_count": 13,
   "metadata": {},
   "outputs": [],
   "source": [
    "'''\n",
    "UnicodeDecodeError: 'cp949' codec can't decode byte 0xe2 in position 6987: illegal multibyte sequence\n",
    "encoding 설정 필요함\n",
    "'''\n",
    "import json\n",
    "with open('data/seoul_metro_time.json', encoding='UTF8') as f:\n",
    "    time_data = json.load(f)\n",
    "with open('data/seoul_metro_loc.json', encoding='UTF8') as f:\n",
    "    loc_data = json.load(f)"
   ]
  },
  {
   "cell_type": "code",
   "execution_count": 31,
   "metadata": {},
   "outputs": [],
   "source": [
    "\"\"\"key들을 정렬해줘야 한다.\"\"\"\n",
    "# key, value 바꿈\n",
    "desp = {time_data['DESCRIPTION'][k] : k for k in time_data['DESCRIPTION']}\n",
    "ride_keys = []\n",
    "alight_keys = []\n",
    "for i in range(24):\n",
    "    time_str = '%s시-%s'%(str(i).zfill(2),  # 0을 붙인다 앞에\n",
    "                          str(i+1).zfill(2)) \n",
    "    ride_keys.append(desp[time_str + '시 승차인원'].lower())\n",
    "    alight_keys.append(desp[time_str + '시 하차인원'].lower())"
   ]
  },
  {
   "cell_type": "code",
   "execution_count": 86,
   "metadata": {},
   "outputs": [],
   "source": [
    "\"\"\"loc_data에 있는 정보들\"\"\"\n",
    "res = {}\n",
    "for st in loc_data['DATA']:\n",
    "    res[st['station_nm']] = {'station_nm': st['station_nm'],\n",
    "                             'lng': st['ypoint_wgs'],\n",
    "                             'lat': st['xpoint_wgs'],\n",
    "                             'line_num': st['line_num'],\n",
    "                             'data': []}"
   ]
  },
  {
   "cell_type": "code",
   "execution_count": 87,
   "metadata": {},
   "outputs": [],
   "source": [
    "\"\"\"time_data에 있는 정보들\"\"\"\n",
    "for t in time_data['DATA']:\n",
    "    if \"2018\" not in t['use_mon']:\n",
    "        continue\n",
    "    if t['sub_sta_nm'] not in res:\n",
    "        continue\n",
    "    # 환승역의 경우 여러번 나오므로 값을 합쳐준다.\n",
    "    flag = False # 환승역일 경우 True\n",
    "    if len(res[t['sub_sta_nm']]['data']) > 0 and \\\n",
    "       res[t['sub_sta_nm']]['data'][-1]['month'] == t['use_mon']:\n",
    "        elem = res[t['sub_sta_nm']]['data'][-1]\n",
    "        flag = True\n",
    "    else:\n",
    "        elem = {'month': t['use_mon'],\n",
    "                'nums': []}\n",
    "    # 시간정보를 list에 더해준다.\n",
    "    for i in range(24):\n",
    "        time_str = '%s시-%s시'%(str(i).zfill(2), str(i+1).zfill(2)) \n",
    "        if len(elem['nums']) > i:\n",
    "            elem['nums'][i] = (time_str,\n",
    "                               elem['nums'][i][1] + t[ride_keys[i]],\n",
    "                               elem['nums'][i][2] + t[alight_keys[i]])\n",
    "        else:\n",
    "            elem['nums'].append((time_str,\n",
    "                                 t[ride_keys[i]],\n",
    "                                 t[alight_keys[i]]))\n",
    "    if flag:\n",
    "        res[t['sub_sta_nm']]['data'][-1] = elem\n",
    "    else:\n",
    "        res[t['sub_sta_nm']]['data'].append(elem)"
   ]
  },
  {
   "cell_type": "code",
   "execution_count": 88,
   "metadata": {},
   "outputs": [],
   "source": [
    "\"\"\"dict를 list로 변환한다.\"\"\"\n",
    "res_list = []\n",
    "for station in res:\n",
    "    res_list.append(res[station])"
   ]
  },
  {
   "cell_type": "code",
   "execution_count": 90,
   "metadata": {},
   "outputs": [],
   "source": [
    "\"\"\"write 한다.\"\"\"\n",
    "with open('data/seoul_metro2018.json', 'w', encoding='UTF8') as f:\n",
    "    json.dump(res_list, f)"
   ]
  }
 ],
 "metadata": {
  "kernelspec": {
   "display_name": "Python 3",
   "language": "python",
   "name": "python3"
  },
  "language_info": {
   "codemirror_mode": {
    "name": "ipython",
    "version": 3
   },
   "file_extension": ".py",
   "mimetype": "text/x-python",
   "name": "python",
   "nbconvert_exporter": "python",
   "pygments_lexer": "ipython3",
   "version": "3.6.4"
  }
 },
 "nbformat": 4,
 "nbformat_minor": 2
}
